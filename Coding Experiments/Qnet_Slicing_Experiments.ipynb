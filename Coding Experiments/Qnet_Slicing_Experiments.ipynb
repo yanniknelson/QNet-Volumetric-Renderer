{
 "cells": [
  {
   "cell_type": "code",
   "execution_count": 86,
   "metadata": {},
   "outputs": [],
   "source": [
    "import torch\n",
    "import matplotlib.pyplot as plt\n",
    "import numpy as np\n",
    "import scipy.io as scio\n",
    "\n",
    "type = torch.float64\n",
    "device = torch.device(\"cuda:0\")\n",
    "\n",
    "weights = scio.loadmat(\"../MATLABtest/volume_weights.mat\")\n",
    "pw1 = torch.tensor(weights[\"pw1\"], dtype=type, device=device)\n",
    "pb1 = torch.squeeze(torch.tensor(weights[\"pb1\"], dtype=type, device=device))\n",
    "pw2 = torch.tensor(weights[\"pw2\"], dtype=type, device=device)\n",
    "pb2 = torch.squeeze(torch.tensor(weights[\"pb2\"], dtype=type, device=device))"
   ]
  },
  {
   "cell_type": "code",
   "execution_count": 87,
   "metadata": {},
   "outputs": [],
   "source": [
    "model = torch.nn.Sequential(torch.nn.Linear(3,500, device=device), torch.nn.Sigmoid(), torch.nn.Linear(500,1, device=device))\n",
    "\n",
    "model[0].weight = torch.nn.Parameter(pw1)\n",
    "model[0].bias = torch.nn.Parameter(pb1)\n",
    "model[2].weight = torch.nn.Parameter(pw2)\n",
    "model[2].bias = torch.nn.Parameter(pb2)"
   ]
  },
  {
   "cell_type": "code",
   "execution_count": 88,
   "metadata": {},
   "outputs": [],
   "source": [
    "class Poly1(torch.nn.Module):\n",
    "    def __init__(self,dimension):\n",
    "        super().__init__()\n",
    "        self.dim = dimension\n",
    "\n",
    "    def forward(self, x):\n",
    "        # return poly(1, self.dim)\n",
    "        return -torch.log(1 - (-torch.exp(x)))\n",
    "\n",
    "class Qnet(torch.nn.Module):\n",
    "    def __init__(self, dimension):\n",
    "        super().__init__()\n",
    "        with torch.no_grad():\n",
    "            self.model = torch.nn.Sequential(torch.nn.Linear(dimension+1, 2**dimension, bias=False, dtype=type, device=device), \n",
    "            Poly1(dimension), \n",
    "            torch.nn.Linear(2**dimension, 1, bias=False, dtype=type,device=device))\n",
    "\n",
    "        tpp = []\n",
    "        for i in np.arange(0, 2**dimension, 1):\n",
    "            tpp.append(list(np.binary_repr(i, width=dimension)))\n",
    "        \n",
    "        tpp = np.array(tpp).astype(float)\n",
    "        S = torch.tensor(np.concatenate(((tpp == 0) * -1 + tpp, np.full((2**dimension, 1), -1)), axis=1), dtype=type, device=device)\n",
    "        w3 = (-torch.prod(S, axis=1).T).reshape(1,S.size(0))\n",
    "\n",
    "        self.model[0].weight = torch.nn.Parameter(S)\n",
    "        self.model[2].weight = torch.nn.Parameter(w3)\n",
    "\n",
    "    def forward(self, x):\n",
    "        return self.model(x)\n",
    "\n",
    "class Intergrator1():\n",
    "    def __init__(self):\n",
    "        self.qnet = Qnet(1)\n",
    "\n",
    "    def apply(self, W1, B1, W2, B2, start = -1, end = 1):\n",
    "        self.qnet.model[0].weight[0][0] = -end\n",
    "        self.qnet.model[0].weight[1][0] = -start\n",
    "        y = torch.cat((W1, B1.reshape(W1.size(0),1)), axis=1)\n",
    "        res = torch.div(self.qnet(y), torch.prod(W1, axis = 1).reshape(W1.size(0),1)) + end-start\n",
    "        self.model = torch.nn.Linear(W2.size(1),1, dtype=type,device=device)\n",
    "        self.model.weight = torch.nn.Parameter(W2)\n",
    "        self.model.bias = torch.nn.Parameter(B2*(end-start))#2**self.dim))\n",
    "\n",
    "        return self.model(res.T)"
   ]
  },
  {
   "cell_type": "code",
   "execution_count": 99,
   "metadata": {},
   "outputs": [
    {
     "name": "stdout",
     "output_type": "stream",
     "text": [
      "tensor([[0.9005]], device='cuda:0', dtype=torch.float64)\n"
     ]
    },
    {
     "data": {
      "text/plain": [
       "[<matplotlib.lines.Line2D at 0x282fe2f2340>]"
      ]
     },
     "execution_count": 99,
     "metadata": {},
     "output_type": "execute_result"
    },
    {
     "data": {
      "image/png": "[encoded data removed]",
      "text/plain": [
       "<Figure size 432x288 with 1 Axes>"
      ]
     },
     "metadata": {
      "needs_background": "light"
     },
     "output_type": "display_data"
    }
   ],
   "source": [
    "yslice = 0\n",
    "zslice = 0\n",
    "\n",
    "xs = np.reshape(np.linspace(-1,1,200),(200,1))\n",
    "ys = np.reshape(np.linspace(yslice,yslice,200), (200,1))\n",
    "zs = np.reshape(np.linspace(zslice,zslice,200), (200,1))\n",
    "\n",
    "data = torch.tensor(np.concatenate((xs,ys,zs), axis=1), dtype=type, device=device)\n",
    "\n",
    "# Maginalising the Z and Y dimensions\n",
    "intDim = pw1[:,2:] # get the x weights \n",
    "slicedDims = pw1[:, :2] # get the z and y weights\n",
    "\n",
    "constants = torch.tensor([yslice,zslice],dtype=type, device=device)\n",
    "\n",
    "newb1 = pb1 + slicedDims.matmul(constants) # update bais\n",
    "\n",
    "# print(newb1)\n",
    "\n",
    "# print(intDim)\n",
    "\n",
    "start = -1\n",
    "stop = 0\n",
    "\n",
    "with torch.no_grad():\n",
    "    res = model(data).cpu().detach().numpy()\n",
    "    qnet = Intergrator1()\n",
    "    print(qnet.apply(intDim, newb1, pw2, pb2, start, stop))\n",
    "\n",
    "plt.plot(np.reshape(np.linspace(-1,1,200), (200,1)), res)\n"
   ]
  },
  {
   "cell_type": "code",
   "execution_count": 28,
   "metadata": {},
   "outputs": [
    {
     "name": "stdout",
     "output_type": "stream",
     "text": [
      "Parameter containing:\n",
      "tensor([[-1., -1.],\n",
      "        [ 1., -1.]], requires_grad=True)\n",
      "None\n",
      "Parameter containing:\n",
      "tensor([[-1.,  1.]], requires_grad=True)\n"
     ]
    }
   ],
   "source": [
    "print(qnet.qnet.model[0].weight)\n",
    "print(qnet.qnet.model[0].bias)\n",
    "\n",
    "print(qnet.qnet.model[2].weight)"
   ]
  }
 ],
 "metadata": {
  "interpreter": {
   "hash": "b78465e235399ae73275d11837eec5903b2c06bfa917c9bb089c8a40ddaefe5d"
  },
  "kernelspec": {
   "display_name": "Python 3.8.10 64-bit (windows store)",
   "language": "python",
   "name": "python3"
  },
  "language_info": {
   "codemirror_mode": {
    "name": "ipython",
    "version": 3
   },
   "file_extension": ".py",
   "mimetype": "text/x-python",
   "name": "python",
   "nbconvert_exporter": "python",
   "pygments_lexer": "ipython3",
   "version": "3.8.10"
  },
  "orig_nbformat": 4
 },
 "nbformat": 4,
 "nbformat_minor": 2
}
