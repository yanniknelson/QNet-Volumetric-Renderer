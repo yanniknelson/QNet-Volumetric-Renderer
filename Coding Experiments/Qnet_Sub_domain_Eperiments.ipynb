{
 "cells": [
  {
   "cell_type": "code",
   "execution_count": null,
   "metadata": {},
   "outputs": [],
   "source": [
    "# -*- coding: utf-8 -*-\n",
    "import torch\n",
    "import math\n",
    "import matplotlib.pyplot as plt\n",
    "import numpy as np\n",
    "import scipy.io as scio\n",
    "\n",
    "dtype = torch.float\n",
    "device = torch.device(\"cuda:0\")"
   ]
  },
  {
   "cell_type": "code",
   "execution_count": null,
   "metadata": {},
   "outputs": [],
   "source": [
    "class Poly1(torch.nn.Module):\n",
    "    def __init__(self,dimension):\n",
    "        super().__init__()\n",
    "        self.dim = dimension\n",
    "\n",
    "    def forward(self, x):\n",
    "        # return poly(1, self.dim)\n",
    "        return -torch.log(1 - (-torch.exp(x)))\n",
    "\n",
    "class Qnet(torch.nn.Module):\n",
    "    def __init__(self, dimension):\n",
    "        super().__init__()\n",
    "        with torch.no_grad():\n",
    "            self.model = torch.nn.Sequential(torch.nn.Linear(dimension+1, 2**dimension, bias=False, dtype=torch.float32, device=device), \n",
    "            Poly1(dimension), \n",
    "            torch.nn.Linear(2**dimension, 1, bias=False, dtype=torch.float32,device=device))\n",
    "\n",
    "        tpp = []\n",
    "        for i in np.arange(0, 2**dimension, 1):\n",
    "            tpp.append(list(np.binary_repr(i, width=dimension)))\n",
    "        \n",
    "        tpp = np.array(tpp).astype(float)\n",
    "        S = torch.tensor(np.concatenate(((tpp == 0) * -1 + tpp, np.full((2**dimension, 1), -1)), axis=1), dtype=torch.float32, device=device)\n",
    "        w3 = (-torch.prod(S, axis=1).T).reshape(1,S.size(0))\n",
    "\n",
    "        # S[0][0] = -0.75\n",
    "        # S[1][0] = 0\n",
    "\n",
    "        self.model[0].weight = torch.nn.Parameter(S)\n",
    "        self.model[2].weight = torch.nn.Parameter(w3)\n",
    "\n",
    "    def forward(self, x):\n",
    "        return self.model(x)\n",
    "\n",
    "class Intergrator1():\n",
    "    def __init__(self):\n",
    "        self.qnet = Qnet(1)\n",
    "\n",
    "    def apply(self, W1, B1, W2, B2, start, end):\n",
    "        self.qnet.model[0].weight[0][0] = -end\n",
    "        self.qnet.model[0].weight[1][0] = -start\n",
    "        y = torch.cat((W1, B1.reshape(W1.size(0),1)), axis=1)\n",
    "        res = torch.div(self.qnet(y), torch.prod(W1, axis = 1).reshape(W1.size(0),1)) + end-start\n",
    "        self.model = torch.nn.Linear(W2.size(1),1, dtype=torch.float32,device=device)\n",
    "        self.model.weight = torch.nn.Parameter(W2)\n",
    "        self.model.bias = torch.nn.Parameter(B2*(end-start))#2**self.dim))\n",
    "\n",
    "        return self.model(res.T)"
   ]
  }
 ],
 "metadata": {
  "language_info": {
   "name": "python"
  },
  "orig_nbformat": 4
 },
 "nbformat": 4,
 "nbformat_minor": 2
}
