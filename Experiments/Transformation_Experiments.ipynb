{
 "cells": [
  {
   "cell_type": "code",
   "execution_count": 1,
   "metadata": {},
   "outputs": [],
   "source": [
    "import numpy as np"
   ]
  },
  {
   "cell_type": "code",
   "execution_count": 2,
   "metadata": {},
   "outputs": [
    {
     "name": "stdout",
     "output_type": "stream",
     "text": [
      "[[ 0. -1.]\n",
      " [ 1.  0.]]\n",
      "\n",
      "[-0.1  0. ]\n"
     ]
    }
   ],
   "source": [
    "r = np.array([0,0.1])\n",
    "g = np.array([-1,0])\n",
    "\n",
    "ct = np.dot(r,g)\n",
    "st = np.sqrt(1-ct**2)\n",
    "if r[1]<=0:\n",
    "    st = -st\n",
    "Rx = np.array([[ct, -st], [st, ct]])\n",
    "\n",
    "print(Rx)\n",
    "print()\n",
    "print(np.dot(Rx, r))\n"
   ]
  },
  {
   "cell_type": "code",
   "execution_count": 10,
   "metadata": {},
   "outputs": [
    {
     "name": "stdout",
     "output_type": "stream",
     "text": [
      "[-0.1, 0, 0]\n"
     ]
    },
    {
     "data": {
      "text/plain": [
       "array([[-1,  0,  0],\n",
       "       [ 0, -1,  0],\n",
       "       [ 0,  0,  1]])"
      ]
     },
     "execution_count": 10,
     "metadata": {},
     "output_type": "execute_result"
    }
   ],
   "source": [
    "def inUse(a):#will be creating transformation matrix to rotate a onto b\n",
    "    # a = np.array([-1,0,0])\n",
    "    print(a)\n",
    "    a = a/np.linalg.norm(a)\n",
    "    b = np.array([1,0,0])\n",
    "    if np.all(a == -b):\n",
    "        return np.array([[-1, 0, 0],[0,-1,0],[0,0,1]])\n",
    "\n",
    "    # print(\"a \",a)\n",
    "    # print(\"b \",b)\n",
    "\n",
    "    v = np.cross(a, b)\n",
    "    c = a[0]\n",
    "    skew = np.array([[0, -v[2], v[1]],[v[2],0,-v[0]],[-v[1], v[0], 0]])\n",
    "    # print(\"v \",v)\n",
    "    # print(\"c \",c)\n",
    "\n",
    "    rot = np.eye(3) + skew + np.dot(skew, skew)/(1+c)\n",
    "\n",
    "    # print(rot)\n",
    "    print(np.dot(rot, a))\n",
    "    return rot\n",
    "\n",
    "rot = inUse(np.array([-0.1,0,0]))\n",
    "\n",
    "print(np.dot(rot, np.array([-0.1,0,0])))"
   ]
  },
  {
   "cell_type": "code",
   "execution_count": 202,
   "metadata": {},
   "outputs": [
    {
     "name": "stdout",
     "output_type": "stream",
     "text": [
      "[[-0.70710678  0.70710678  0.        ]\n",
      " [-0.70710678 -0.70710678  0.        ]\n",
      " [ 0.          0.          1.        ]]\n"
     ]
    },
    {
     "data": {
      "text/plain": [
       "array([ 0., -1.,  0.])"
      ]
     },
     "execution_count": 202,
     "metadata": {},
     "output_type": "execute_result"
    }
   ],
   "source": [
    "a = np.array([0.5, 0.5, 0])\n",
    "a = a/np.linalg.norm(a)\n",
    "xaxis = np.array([1,0,0])\n",
    "yaxis = np.array([0,1,0])\n",
    "zaxis = np.array([0,0,1])\n",
    "\n",
    "\n",
    "ct = -np.dot(a, xaxis)\n",
    "st = np.linalg.norm(np.cross(a, xaxis))\n",
    "if a[1] > 0:\n",
    "    st = -st\n",
    "R = np.array([[ct, -st, 0],[st, ct, 0], [0,0,1]])\n",
    "\n",
    "\n",
    "print(R)\n",
    "np.dot(R, a)"
   ]
  },
  {
   "cell_type": "code",
   "execution_count": 315,
   "metadata": {},
   "outputs": [
    {
     "name": "stdout",
     "output_type": "stream",
     "text": [
      "[0.         0.70710678 0.70710678]\n",
      "45.00000000000001\n",
      "44.99999999999999\n",
      "[0.         0.85355339 0.85355339]\n",
      "1.2071067811865472\n"
     ]
    }
   ],
   "source": [
    "a = np.array([0, 1, 1])\n",
    "a = a/np.linalg.norm(a)\n",
    "print(a)\n",
    "xaxis = np.array([1,0,0])\n",
    "yaxis = np.array([0,1,0])\n",
    "zaxis = np.array([0,0,1])\n",
    "\n",
    "ct = np.linalg.norm(np.array([a[0], a[1]]))\n",
    "st = a[2]\n",
    "\n",
    "v = np.cross(zaxis, a)\n",
    "minct = 1 - ct\n",
    "\n",
    "rot = np.array([[minct*v[0]**2+ct, minct*v[0]*v[1] - v[2]*st, minct*v[0]*v[2]+v[1]*st],\n",
    "          [minct*v[1]*v[0] + v[2]*st, minct*v[1]**2 + ct, minct*v[1]*v[2] - v[0]*st],\n",
    "          [minct*v[2]*v[0] - v[1]*st, minct*v[2] * v[1] - v[0]*st, minct*v[2]**2 + ct ]])\n",
    "\n",
    "print(np.arccos(ct) * 180/np.pi)\n",
    "print(np.arcsin(st) * 180/np.pi)\n",
    "\n",
    "# Rx = np.array([[1,0,0],[0,ct,-st],[0,st,ct]])\n",
    "# print(Rx)\n",
    "# print()\n",
    "print(np.dot(rot, a))\n",
    "# print(np.dot(Rx, np.array([0, 1/2, -1/2])))\n",
    "print(np.linalg.norm(np.dot(rot, a)))"
   ]
  },
  {
   "cell_type": "code",
   "execution_count": 333,
   "metadata": {},
   "outputs": [
    {
     "name": "stdout",
     "output_type": "stream",
     "text": [
      "[0.57735027 0.57735027 0.57735027]\n",
      "[7.07106781e-01 7.07106781e-01 5.55111512e-17]\n",
      "1.0000000000000002\n"
     ]
    }
   ],
   "source": [
    "from scipy.spatial.transform import Rotation as R\n",
    "\n",
    "a = np.array([1, 1, 1])\n",
    "a = a/np.linalg.norm(a)\n",
    "print(a)\n",
    "zaxis = np.array([0,0,1])\n",
    "\n",
    "sin = a[2]\n",
    "cross = -np.cross(a, zaxis)\n",
    "cross = cross/np.linalg.norm(cross)\n",
    "\n",
    "rotx = R.from_rotvec(np.arcsin(sin) * cross).as_matrix()\n",
    "\n",
    "print(np.dot(rotx, a))\n",
    "print(np.linalg.norm(np.dot(rotx, a)))"
   ]
  },
  {
   "cell_type": "code",
   "execution_count": 356,
   "metadata": {},
   "outputs": [
    {
     "name": "stdout",
     "output_type": "stream",
     "text": [
      "[0.70710678 0.70710678 0.        ]\n",
      "45.00000000000001\n",
      "[[ 0.70710678  0.70710678  0.        ]\n",
      " [-0.70710678  0.70710678 -0.        ]\n",
      " [-0.          0.          1.        ]]\n",
      "[ 1.00000000e+00 -2.22044605e-16  0.00000000e+00]\n",
      "1.0\n"
     ]
    }
   ],
   "source": [
    "a = np.array([1, 1, 0])\n",
    "a = a/np.linalg.norm(a)\n",
    "print(a)\n",
    "xaxis = np.array([0,0,0])\n",
    "\n",
    "cos = a[0]\n",
    "cross = -zaxis\n",
    "\n",
    "angle = np.arccos(cos)\n",
    "if a[1] < 0:\n",
    "    angle = -angle\n",
    "\n",
    "print(np.arccos(cos) * 180/np.pi)\n",
    "\n",
    "rotz = R.from_rotvec(angle * cross).as_matrix()\n",
    "\n",
    "print(rotz)\n",
    "\n",
    "print(np.dot(rotz, a))\n",
    "print(np.linalg.norm(np.dot(rotz, a)))"
   ]
  },
  {
   "cell_type": "code",
   "execution_count": 373,
   "metadata": {},
   "outputs": [],
   "source": [
    "def getRotation(a):\n",
    "    print(a)\n",
    "    a = a/np.linalg.norm(a)\n",
    "    zaxis = np.array([0,0,1])\n",
    "\n",
    "    sin = a[2]\n",
    "    cross = -np.cross(a, zaxis)\n",
    "    cross = cross/np.linalg.norm(cross)\n",
    "\n",
    "    roty = R.from_rotvec(np.arcsin(sin) * cross).as_matrix()\n",
    "\n",
    "    print(np.dot(roty, a))\n",
    "\n",
    "    cos = np.dot(roty, a)[0]\n",
    "    cross = -zaxis\n",
    "\n",
    "    angle = np.arccos(cos)\n",
    "    if np.dot(roty, a)[1] < 0:\n",
    "        angle = -angle\n",
    "\n",
    "    rotz = R.from_rotvec(angle * cross).as_matrix()\n",
    "\n",
    "    # print(rotz)\n",
    "\n",
    "\n",
    "    rotToX = np.dot(rotz, rotx)\n",
    "    print(np.dot(rotToX, a))\n",
    "    # print(np.linalg.norm(np.dot(rotToX, a)))\n",
    "    return rotToX"
   ]
  },
  {
   "cell_type": "code",
   "execution_count": 392,
   "metadata": {},
   "outputs": [
    {
     "name": "stdout",
     "output_type": "stream",
     "text": [
      "[-1. -1. -1.]\n",
      "[1.00000000e+00 2.91433544e-16 2.77555756e-16]\n",
      "[-2.5000000e+00 -8.8817842e-16 -8.8817842e-16]\n",
      "[-1. -1.  1.]\n",
      "[ 1.00000000e+00  2.91433544e-16 -2.77555756e-16]\n",
      "[-2.5000000e+00 -8.8817842e-16  8.8817842e-16]\n",
      "[-1.  1. -1.]\n",
      "[ 1.00000000e+00 -2.91433544e-16  2.77555756e-16]\n",
      "[-2.5000000e+00  8.8817842e-16 -8.8817842e-16]\n",
      "[-1.  1.  1.]\n",
      "[ 1.00000000e+00 -2.91433544e-16 -2.77555756e-16]\n",
      "[-2.5000000e+00  8.8817842e-16  8.8817842e-16]\n",
      "[ 1. -1. -1.]\n",
      "[1.00000000e+00 1.11022302e-16 9.71445147e-17]\n",
      "[-2.50000000e+00 -2.22044605e-16 -1.11022302e-16]\n",
      "[ 1. -1.  1.]\n",
      "[ 1.00000000e+00  1.11022302e-16 -9.71445147e-17]\n",
      "[-2.50000000e+00 -2.22044605e-16  1.11022302e-16]\n",
      "[ 1.  1. -1.]\n",
      "[ 1.00000000e+00 -1.11022302e-16  9.71445147e-17]\n",
      "[-2.50000000e+00  2.22044605e-16 -1.11022302e-16]\n",
      "[1. 1. 1.]\n",
      "[ 1.00000000e+00 -1.11022302e-16 -9.71445147e-17]\n",
      "[-2.50000000e+00  2.22044605e-16  1.11022302e-16]\n"
     ]
    }
   ],
   "source": [
    "tpp = []\n",
    "for i in np.arange(0, 8, 1):\n",
    "    tpp.append(list(np.binary_repr(i, width=3)))\n",
    "\n",
    "tpp = np.array(tpp).astype(float)\n",
    "tpp = (tpp == 0) * -1 + tpp\n",
    "# print(tpp)\n",
    "for i in range(8):\n",
    "    rot = inUse(tpp[i])\n",
    "    ref = tpp[i]/np.linalg.norm(tpp[i])*-2.5\n",
    "    print(np.dot(rot, ref))\n",
    "    "
   ]
  }
 ],
 "metadata": {
  "interpreter": {
   "hash": "b78465e235399ae73275d11837eec5903b2c06bfa917c9bb089c8a40ddaefe5d"
  },
  "kernelspec": {
   "display_name": "Python 3.8.10 64-bit (windows store)",
   "language": "python",
   "name": "python3"
  },
  "language_info": {
   "codemirror_mode": {
    "name": "ipython",
    "version": 3
   },
   "file_extension": ".py",
   "mimetype": "text/x-python",
   "name": "python",
   "nbconvert_exporter": "python",
   "pygments_lexer": "ipython3",
   "version": "3.9.7"
  },
  "orig_nbformat": 4
 },
 "nbformat": 4,
 "nbformat_minor": 2
}
