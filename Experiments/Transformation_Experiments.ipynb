{
 "cells": [
  {
   "cell_type": "code",
   "execution_count": 1,
   "metadata": {},
   "outputs": [],
   "source": [
    "import numpy as np"
   ]
  },
  {
   "cell_type": "code",
   "execution_count": 62,
   "metadata": {},
   "outputs": [
    {
     "name": "stdout",
     "output_type": "stream",
     "text": [
      "[0. 1. 0.]\n",
      "[1 0 0]\n"
     ]
    }
   ],
   "source": [
    "#will be creating transformation matrix to rotate a onto b\n",
    "startpos = np.array([0,1,0])\n",
    "\n",
    "a = np.array([0, 1, 0])\n",
    "a = a/np.linalg.norm(a)\n",
    "b = np.array([1,0,0])\n",
    "\n",
    "print(a)\n",
    "print(b)"
   ]
  },
  {
   "cell_type": "code",
   "execution_count": 63,
   "metadata": {},
   "outputs": [
    {
     "name": "stdout",
     "output_type": "stream",
     "text": [
      "0.0\n"
     ]
    }
   ],
   "source": [
    "v = np.cross(a, b)\n",
    "c = np.dot(a,b)\n",
    "skew = np.array([[0, -v[2], v[1]],[v[2],0,-v[0]],[-v[1], v[0], 0]])\n",
    "\n",
    "print(c)\n"
   ]
  },
  {
   "cell_type": "code",
   "execution_count": 68,
   "metadata": {},
   "outputs": [
    {
     "name": "stdout",
     "output_type": "stream",
     "text": [
      "[[ 0.  1.  0. -1.]\n",
      " [-1.  0.  0.  0.]\n",
      " [ 0.  0.  1.  0.]\n",
      " [ 0.  0.  0.  1.]]\n"
     ]
    },
    {
     "data": {
      "text/plain": [
       "array([0., 0., 0., 1.])"
      ]
     },
     "execution_count": 68,
     "metadata": {},
     "output_type": "execute_result"
    }
   ],
   "source": [
    "rot = np.eye(3) + skew + np.dot(skew, skew)/(1+c)\n",
    "rot = np.concatenate((np.concatenate((rot, np.zeros((1,3))), axis=0), np.array([0,0,0,1]).reshape((4,1))), axis = 1)\n",
    "\n",
    "trans = np.eye(4)\n",
    "trans[0][3] = -startpos[0]\n",
    "trans[1][3] = -startpos[1]\n",
    "trans[2][3] = -startpos[2]\n",
    "final = np.dot(rot, trans)\n",
    "\n",
    "print(final)\n",
    "np.dot(final, np.array([0,1,0,1]))\n"
   ]
  }
 ],
 "metadata": {
  "interpreter": {
   "hash": "b78465e235399ae73275d11837eec5903b2c06bfa917c9bb089c8a40ddaefe5d"
  },
  "kernelspec": {
   "display_name": "Python 3.8.10 64-bit (windows store)",
   "language": "python",
   "name": "python3"
  },
  "language_info": {
   "codemirror_mode": {
    "name": "ipython",
    "version": 3
   },
   "file_extension": ".py",
   "mimetype": "text/x-python",
   "name": "python",
   "nbconvert_exporter": "python",
   "pygments_lexer": "ipython3",
   "version": "3.8.10"
  },
  "orig_nbformat": 4
 },
 "nbformat": 4,
 "nbformat_minor": 2
}
