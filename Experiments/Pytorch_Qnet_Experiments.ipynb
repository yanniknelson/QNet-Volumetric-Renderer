{
 "cells": [
  {
   "cell_type": "code",
   "execution_count": 1,
   "metadata": {},
   "outputs": [
    {
     "data": {
      "text/plain": [
       "(1, 1)"
      ]
     },
     "execution_count": 1,
     "metadata": {},
     "output_type": "execute_result"
    }
   ],
   "source": [
    "# -*- coding: utf-8 -*-\n",
    "import torch\n",
    "import math\n",
    "import matplotlib.pyplot as plt\n",
    "import numpy as np\n",
    "from mpmath import mp\n",
    "import scipy.io as scio\n",
    "\n",
    "dtype = torch.float\n",
    "device = torch.device(\"cuda:0\")\n",
    "device = torch.device(\"cpu\")\n",
    "\n",
    "weights = scio.loadmat(\"MATLABtest/volume_weights.mat\")\n",
    "pw1 = weights[\"pw1\"]\n",
    "pb1 = weights[\"pb1\"]\n",
    "pw2 = weights[\"pw2\"]\n",
    "pb2 = weights[\"pb2\"]\n",
    "np.shape(pb2)"
   ]
  },
  {
   "cell_type": "code",
   "execution_count": 2,
   "metadata": {},
   "outputs": [],
   "source": [
    "class Poly1(torch.nn.Module):\n",
    "    def __init__(self,dimension):\n",
    "        super().__init__()\n",
    "        self.dim = dimension\n",
    "\n",
    "    def forward(self, x):\n",
    "        # return poly(1, self.dim)\n",
    "        return -torch.log(1 - (-torch.exp(x)))\n",
    "\n",
    "class Qnet(torch.nn.Module):\n",
    "    def __init__(self, dimension):\n",
    "        super().__init__()\n",
    "        with torch.no_grad():\n",
    "            self.model = torch.nn.Sequential(torch.nn.Linear(dimension+1, 2**dimension, bias=False, dtype=torch.float32, device=device), Poly1(dimension), torch.nn.Linear(2**dimension, 1, bias=False, dtype=torch.float32,device=device))\n",
    "\n",
    "        tpp = []\n",
    "        for i in np.arange(0, 2**dimension, 1):\n",
    "            tpp.append(list(np.binary_repr(i, width=dimension)))\n",
    "        \n",
    "        tpp = np.array(tpp).astype(float)\n",
    "        S = torch.tensor(np.concatenate(((tpp == 0) * -1 + tpp, np.full((2**dimension, 1), -1)), axis=1), dtype=torch.float32, device=device)\n",
    "        w3 = (-torch.prod(S, axis=1).T).reshape(1,S.size(0))\n",
    "\n",
    "        self.model[0].weight = torch.nn.Parameter(S)\n",
    "        self.model[2].weight = torch.nn.Parameter(w3)\n",
    "\n",
    "    def forward(self, x):\n",
    "        return self.model(x)\n",
    "\n",
    "class Intergrator():\n",
    "    def __init__(self,dimension):\n",
    "        if (dimension != 1):\n",
    "            print(\"activation function only works for 1 dimesnions for now\")\n",
    "        self.dim = dimension\n",
    "        self.qnet = Qnet(dimension)\n",
    "\n",
    "    def apply(self, W1, B1, W2, B2):\n",
    "        y = torch.cat((W1, B1.reshape(W1.size(0),1)), axis=1)\n",
    "        res = torch.div(self.qnet(y), torch.prod(W1, axis = 1).reshape(W1.size(0),1)) + 2**self.dim\n",
    "        self.model = torch.nn.Linear(W2.size(1),1, dtype=torch.float32,device=device)\n",
    "        self.model.weight = torch.nn.Parameter(W2)\n",
    "        self.model.bias = torch.nn.Parameter(B2*(2**self.dim))\n",
    "\n",
    "        return self.model(res.T)\n"
   ]
  },
  {
   "cell_type": "code",
   "execution_count": 3,
   "metadata": {},
   "outputs": [
    {
     "ename": "AttributeError",
     "evalue": "'MPContext' object has no attribute 'simplify'",
     "output_type": "error",
     "traceback": [
      "\u001b[1;31m---------------------------------------------------------------------------\u001b[0m",
      "\u001b[1;31mAttributeError\u001b[0m                            Traceback (most recent call last)",
      "\u001b[1;32mc:\\Users\\YannikNelson\\Documents\\GitHub\\QNet-Volumetric-Renderer\\Pytorch_Qnet_Experiments.ipynb Cell 3'\u001b[0m in \u001b[0;36m<module>\u001b[1;34m\u001b[0m\n\u001b[0;32m      <a href='vscode-notebook-cell:/c%3A/Users/YannikNelson/Documents/GitHub/QNet-Volumetric-Renderer/Pytorch_Qnet_Experiments.ipynb#ch0000002?line=4'>5</a>\u001b[0m W2 \u001b[39m=\u001b[39m torch\u001b[39m.\u001b[39mtensor([[\u001b[39m-\u001b[39m\u001b[39m0.30055588\u001b[39m, \u001b[39m3.15199\u001b[39m, \u001b[39m1.475628\u001b[39m, \u001b[39m-\u001b[39m\u001b[39m0.20895372\u001b[39m, \u001b[39m0.3831912\u001b[39m, \u001b[39m3.4266005\u001b[39m, \u001b[39m0.19389513\u001b[39m, \u001b[39m-\u001b[39m\u001b[39m2.9015236\u001b[39m, \u001b[39m1.8864253\u001b[39m, \u001b[39m-\u001b[39m\u001b[39m2.0440385\u001b[39m]], dtype\u001b[39m=\u001b[39mtorch\u001b[39m.\u001b[39mfloat32, device\u001b[39m=\u001b[39mdevice)\n\u001b[0;32m      <a href='vscode-notebook-cell:/c%3A/Users/YannikNelson/Documents/GitHub/QNet-Volumetric-Renderer/Pytorch_Qnet_Experiments.ipynb#ch0000002?line=5'>6</a>\u001b[0m B2 \u001b[39m=\u001b[39m torch\u001b[39m.\u001b[39mtensor([[\u001b[39m1.4603579\u001b[39m]], dtype\u001b[39m=\u001b[39mtorch\u001b[39m.\u001b[39mfloat32, device\u001b[39m=\u001b[39mdevice)\n\u001b[1;32m----> <a href='vscode-notebook-cell:/c%3A/Users/YannikNelson/Documents/GitHub/QNet-Volumetric-Renderer/Pytorch_Qnet_Experiments.ipynb#ch0000002?line=7'>8</a>\u001b[0m mp\u001b[39m.\u001b[39;49msimplify(mp\u001b[39m.\u001b[39mpolylog(\u001b[39m1\u001b[39m,\u001b[39m10\u001b[39m))\n",
      "\u001b[1;31mAttributeError\u001b[0m: 'MPContext' object has no attribute 'simplify'"
     ]
    }
   ],
   "source": [
    "W1 = torch.tensor([[-53.099407, 1.5240264, -0.17084326,-1.380339, -0.72163534, -0.30636203, -0.7825347, 2.1130767, 2.3055365, 3.301027]], dtype=torch.float32, device=device)\n",
    "W1 = W1.T\n",
    "B1 = torch.tensor([26.595804, -1.7131307, 0.44687968, -0.87286687, -3.1546798, -2.0160902, -0.24203205, 0.514264, -0.19717565, 4.175638], dtype=torch.float32, device=device)\n",
    "\n",
    "W2 = torch.tensor([[-0.30055588, 3.15199, 1.475628, -0.20895372, 0.3831912, 3.4266005, 0.19389513, -2.9015236, 1.8864253, -2.0440385]], dtype=torch.float32, device=device)\n",
    "B2 = torch.tensor([[1.4603579]], dtype=torch.float32, device=device)\n",
    "\n",
    "mp.simplify(mp.polylog(1,10))"
   ]
  },
  {
   "cell_type": "code",
   "execution_count": 4,
   "metadata": {},
   "outputs": [
    {
     "name": "stdout",
     "output_type": "stream",
     "text": [
      "tensor([[0.7539]], grad_fn=<AddmmBackward0>)\n"
     ]
    }
   ],
   "source": [
    "for i in range(1000):\n",
    "    W1 = torch.tensor([[-53.099407, 1.5240264, -0.17084326,-1.380339, -0.72163534, -0.30636203, -0.7825347, 2.1130767, 2.3055365, 3.301027]], dtype=torch.float32, device=device)\n",
    "    W1 = W1.T\n",
    "    B1 = torch.tensor([26.595804, -1.7131307, 0.44687968, -0.87286687, -3.1546798, -2.0160902, -0.24203205, 0.514264, -0.19717565, 4.175638], dtype=torch.float32, device=device)\n",
    "\n",
    "    W2 = torch.tensor([[-0.30055588, 3.15199, 1.475628, -0.20895372, 0.3831912, 3.4266005, 0.19389513, -2.9015236, 1.8864253, -2.0440385]], dtype=torch.float32, device=device)\n",
    "    B2 = torch.tensor([[1.4603579]], dtype=torch.float32, device=device)\n",
    "    tests = Intergrator(1).apply(W1, B1, W2, B2)\n",
    "\n",
    "print(tests)"
   ]
  },
  {
   "cell_type": "code",
   "execution_count": 7,
   "metadata": {},
   "outputs": [
    {
     "name": "stdout",
     "output_type": "stream",
     "text": [
      "tensor([0.5003, 0.5003, 0.5003,  ..., 0.4999, 0.4999, 0.4999])\n",
      "tensor([0.5000, 0.5000, 0.5000,  ..., 0.5000, 0.5000, 0.5000])\n"
     ]
    },
    {
     "data": {
      "image/png": "[encoded data removed]",
      "text/plain": [
       "<Figure size 432x288 with 1 Axes>"
      ]
     },
     "metadata": {
      "needs_background": "light"
     },
     "output_type": "display_data"
    }
   ],
   "source": [
    "input_size = 1\n",
    "hidden_size = 100\n",
    "output_size = 1\n",
    "\n",
    "# Create Tensors to hold input and outputs.\n",
    "x = torch.linspace(-1, 1, 2000, device=device)\n",
    "y = torch.sin(x)\n",
    "\n",
    "f1 = lambda x: ((x < .5) * torch.pow(x, 2) + (x > .5) * x)   \n",
    "f1 = lambda x: (x * 0) +0.5\n",
    "y = f1(x)\n",
    "\n",
    "# plt.plot(x,y)\n",
    "\n",
    "# Prepare the input tensor (x, x^2, x^3).\n",
    "xx = x.unsqueeze(-1)\n",
    "\n",
    "# Use the nn package to define our model and loss function.\n",
    "model = torch.nn.Sequential(\n",
    "    torch.nn.Linear(input_size, hidden_size, device=device),\n",
    "    torch.nn.Sigmoid(),\n",
    "    torch.nn.Linear(hidden_size, output_size, device=device),\n",
    "    torch.nn.Flatten(0, output_size)\n",
    ")\n",
    "loss_fn = torch.nn.MSELoss(reduction='sum')\n",
    "\n",
    "# Use the optim package to define an Optimizer that will update the weights of\n",
    "# the model for us. Here we will use RMSprop; the optim package contains many other\n",
    "# optimization algorithms. The first argument to the RMSprop constructor tells the\n",
    "# optimizer which Tensors it should update.\n",
    "learning_rate = 1e-5\n",
    "optimizer = torch.optim.Adam(model.parameters(), lr=0.01)\n",
    "optimizer.zero_grad()\n",
    "for t in range(2000):\n",
    "    # Forward pass: compute predicted y by passing x to the model.\n",
    "    y_pred = model(xx)\n",
    "\n",
    "    # Compute and print loss.\n",
    "    loss = loss_fn(y_pred, y)\n",
    "    # if t % 100 == 99:\n",
    "    #     print(t, loss.item())\n",
    "\n",
    "    # Before the backward pass, use the optimizer object to zero all of the\n",
    "    # gradients for the variables it will update (which are the learnable\n",
    "    # weights of the model). This is because by default, gradients are\n",
    "    # accumulated in buffers( i.e, not overwritten) whenever .backward()\n",
    "    # is called. Checkout docs of torch.autograd.backward for more details.\n",
    "    optimizer.zero_grad()\n",
    "\n",
    "    # Backward pass: compute gradient of the loss with respect to model\n",
    "    # parameters\n",
    "    loss.backward()\n",
    "\n",
    "    # Calling the step function on an Optimizer makes an update to its\n",
    "    # parameters\n",
    "    optimizer.step()\n",
    "\n",
    "plt.plot(x.cpu().detach().numpy(), y.cpu().detach().numpy())\n",
    "with torch.no_grad():\n",
    "    print(model(xx))\n",
    "    plt.plot(x.cpu().detach().numpy(), model(xx).cpu().detach().numpy())\n",
    "print(y)"
   ]
  },
  {
   "cell_type": "code",
   "execution_count": 13,
   "metadata": {},
   "outputs": [
    {
     "name": "stdout",
     "output_type": "stream",
     "text": [
      "torch.Size([100, 1])\n",
      "tensor([[1.0000]], grad_fn=<AddmmBackward0>)\n"
     ]
    }
   ],
   "source": [
    "temp = Intergrator(1).apply(model[0].weight, model[0].bias, model[2].weight, model[2].bias)\n",
    "\n",
    "print(model[0].weight.size())\n",
    "print(model[0].bias.size())\n",
    "print(model[2].weight.size())\n",
    "print(model[2].bias.size())\n",
    "\n",
    "print(temp)"
   ]
  }
 ],
 "metadata": {
  "interpreter": {
   "hash": "b78465e235399ae73275d11837eec5903b2c06bfa917c9bb089c8a40ddaefe5d"
  },
  "kernelspec": {
   "display_name": "Python 3.8.10 64-bit (windows store)",
   "language": "python",
   "name": "python3"
  },
  "language_info": {
   "codemirror_mode": {
    "name": "ipython",
    "version": 3
   },
   "file_extension": ".py",
   "mimetype": "text/x-python",
   "name": "python",
   "nbconvert_exporter": "python",
   "pygments_lexer": "ipython3",
   "version": "3.8.10"
  },
  "orig_nbformat": 4
 },
 "nbformat": 4,
 "nbformat_minor": 2
}
