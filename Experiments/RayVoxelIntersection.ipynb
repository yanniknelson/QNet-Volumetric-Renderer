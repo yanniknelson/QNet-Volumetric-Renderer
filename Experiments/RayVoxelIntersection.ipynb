{
 "cells": [
  {
   "cell_type": "code",
   "execution_count": 10,
   "metadata": {},
   "outputs": [],
   "source": [
    "import numpy as np\n",
    "import decimal"
   ]
  },
  {
   "cell_type": "code",
   "execution_count": 53,
   "metadata": {},
   "outputs": [
    {
     "name": "stdout",
     "output_type": "stream",
     "text": [
      "pt =  [0 0]  dir =  [ 0.70710678 -0.70710678]\n",
      "[ 1 -1]\n",
      "[ 1. -1.]\n",
      "start_coord  [1. 1.]\n",
      "steps  [ 1 -1]\n",
      "deltas  [1.41421356 1.41421356]\n",
      "tmaxs  [1. 0.]\n"
     ]
    }
   ],
   "source": [
    "def get_containing_voxel(bottom_left, top_right, voxel_size, point, direction):\n",
    "    #find the coordinates of the point on the edges of the voxel space (only works for -1 to 1 range) \n",
    "    #then shift in to the appropriate voxel \n",
    "    # shift = (np.abs(point) == 1) * ((point < 0) * 2 - 1)*0.5 # don't need? just check if voxel exists in volume\n",
    "    #coord = coord + shift # not needed\n",
    "    \n",
    "    #calculate the steps for the direction\n",
    "    steps = (direction < 0) * -2 + 1\n",
    "    steps = steps * (((direction == 0)  & (point >= top_right)) * -2 + 1)\n",
    "\n",
    "    #claculate t values of direction to produce each of the voxel dimension sizes\n",
    "    deltas = abs(np.divide(voxel_size,direction))\n",
    "\n",
    "    point_modulo = ((point-bottom_left) / voxel_size) - np.floor((point-bottom_left) / voxel_size)\n",
    "    point_modulo = (point-bottom_left) % voxel_size\n",
    "\n",
    "    #find the maximum t vlues for the direction that can be moved before crossing a voxel\n",
    "\n",
    "    # diag = ((direction < 0) * -2 + 1) * voxel_size\n",
    "    # print(((direction < 0) * -2 + 1))\n",
    "    # print(diag)\n",
    "\n",
    "    # tmaxs = np.divide((diag-point_modulo), direction)\n",
    "\n",
    "    tmaxs = direction * 0\n",
    "    tmaxs[(direction < 0)] = point_modulo[(direction < 0)]\n",
    "    tmaxs[(direction > 0)] = voxel_size[(direction > 0)] - point_modulo[(direction > 0)]\n",
    "\n",
    "    # tmaxs[(point_modulo == 0) & (direction < 0)] = 0\n",
    "    # tmaxs[(point_modulo == 0) & ((direction == 0)  & (point == top_right))] = 0\n",
    "    \n",
    "\n",
    "    #find the voxel coord of the voxel that contains the point\n",
    "    vox_coord = np.floor((point-bottom_left)/ voxel_size)\n",
    "    return vox_coord, steps, deltas, tmaxs\n",
    "\n",
    "voxel_counts = np.array([2, 2])\n",
    "bottom_left = np.array([-1,-1])\n",
    "top_right = np.array([1,1])\n",
    "voxel_size = (top_right - bottom_left)/voxel_counts\n",
    "\n",
    "point = np.array([0,0])\n",
    "direction = np.array([1,-1])\n",
    "direction = direction/np.linalg.norm(direction)\n",
    "print(\"pt = \", point, \" dir = \", direction)\n",
    "start_coord, steps, deltas, tmaxs = get_containing_voxel(bottom_left, top_right, voxel_size, point, direction)\n",
    "print(\"start_coord \", start_coord)\n",
    "print(\"steps \", steps)\n",
    "print(\"deltas \", deltas)\n",
    "print(\"tmaxs \", tmaxs)"
   ]
  },
  {
   "cell_type": "code",
   "execution_count": 12,
   "metadata": {},
   "outputs": [],
   "source": [
    "def trace_no_scaling(ray_origin, start_coord, tmaxs, deltas, voxel_counts):\n",
    "    lowest = np.array([0,0,0])\n",
    "    while True:\n",
    "        print(start_coord)\n",
    "        if tmaxs[0] < tmaxs[1]:\n",
    "            if tmaxs[0] < tmaxs[2]:\n",
    "                start_coord[0] = start_coord[0] + steps[0]\n",
    "                tmaxs[0] = tmaxs[0] + deltas[0]\n",
    "            else:\n",
    "                start_coord[2] = start_coord[2] + steps[2]\n",
    "                tmaxs[2] = tmaxs[2] + deltas[2]\n",
    "        else:\n",
    "            if tmaxs[1] < tmaxs[2]:\n",
    "                start_coord[1] = start_coord[1] + steps[1]\n",
    "                tmaxs[1] = tmaxs[1] + deltas[1]\n",
    "            else:\n",
    "                start_coord[2] = start_coord[2] + steps[2]\n",
    "                tmaxs[2] = tmaxs[2] + deltas[2]\n",
    "        print(tmaxs)\n",
    "        if np.any(start_coord >= voxel_counts) or np.any(start_coord < lowest):\n",
    "            break"
   ]
  },
  {
   "cell_type": "code",
   "execution_count": 13,
   "metadata": {},
   "outputs": [],
   "source": [
    "def trace_scaling(start_coord, tmaxs, deltas, voxel_counts):\n",
    "    out_of_range_count = 0\n",
    "    lowest = np.array([0,0,0])\n",
    "    print(start_coord)\n",
    "    while True:\n",
    "        dim = 0\n",
    "        if tmaxs[0] < tmaxs[1]:\n",
    "            if tmaxs[0] < tmaxs[2]:\n",
    "                start_coord[0] = start_coord[0] + steps[0]\n",
    "                dim = 0\n",
    "            else:\n",
    "                start_coord[2] = start_coord[2] + steps[2]\n",
    "                dim = 2\n",
    "        else:\n",
    "            if tmaxs[1] < tmaxs[2]:\n",
    "                start_coord[1] = start_coord[1] + steps[1]\n",
    "                dim = 1\n",
    "            else:\n",
    "                start_coord[2] = start_coord[2] + steps[2]\n",
    "                dim = 2\n",
    "        if np.any(start_coord >= voxel_counts) or np.any(start_coord < lowest):\n",
    "            print(\"ignore\")\n",
    "            out_of_range_count = out_of_range_count + 1\n",
    "        if out_of_range_count == 4:\n",
    "            break\n",
    "        print(\"dim = \", dim, \" t = \", tmaxs[dim])\n",
    "        tmaxs = tmaxs - tmaxs[dim]\n",
    "        tmaxs[dim] = deltas[dim]\n",
    "        print(start_coord, tmaxs)\n",
    "        print()\n",
    "        "
   ]
  },
  {
   "cell_type": "code",
   "execution_count": 56,
   "metadata": {},
   "outputs": [
    {
     "name": "stdout",
     "output_type": "stream",
     "text": [
      "[0.5 1.  1. ] [4 2 2]\n",
      "[2. 2. 2.]\n",
      "[-1 -1  1]\n",
      "[-0.5 -1.   1. ]\n"
     ]
    },
    {
     "name": "stderr",
     "output_type": "stream",
     "text": [
      "C:\\Users\\YannikNelson\\AppData\\Local\\Temp\\ipykernel_21888\\3025072664.py:12: RuntimeWarning: divide by zero encountered in true_divide\n",
      "  deltas = abs(np.divide(voxel_size,direction))\n"
     ]
    },
    {
     "ename": "IndexError",
     "evalue": "boolean index did not match indexed array along dimension 0; dimension is 2 but corresponding boolean dimension is 3",
     "output_type": "error",
     "traceback": [
      "\u001b[1;31m---------------------------------------------------------------------------\u001b[0m",
      "\u001b[1;31mIndexError\u001b[0m                                Traceback (most recent call last)",
      "\u001b[1;32mc:\\Users\\YannikNelson\\Documents\\GitHub\\QNet-Volumetric-Renderer\\Experiments\\RayVoxelIntersection.ipynb Cell 5'\u001b[0m in \u001b[0;36m<module>\u001b[1;34m\u001b[0m\n\u001b[0;32m     <a href='vscode-notebook-cell:/c%3A/Users/YannikNelson/Documents/GitHub/QNet-Volumetric-Renderer/Experiments/RayVoxelIntersection.ipynb#ch0000004?line=16'>17</a>\u001b[0m \u001b[39m# ray_origin = np.array([-0.94919843, -0.22988174,  1])\u001b[39;00m\n\u001b[0;32m     <a href='vscode-notebook-cell:/c%3A/Users/YannikNelson/Documents/GitHub/QNet-Volumetric-Renderer/Experiments/RayVoxelIntersection.ipynb#ch0000004?line=17'>18</a>\u001b[0m \u001b[39m# ray_direction = np.array([-0.75137672, -0.6421716,  -0.15181786])\u001b[39;00m\n\u001b[0;32m     <a href='vscode-notebook-cell:/c%3A/Users/YannikNelson/Documents/GitHub/QNet-Volumetric-Renderer/Experiments/RayVoxelIntersection.ipynb#ch0000004?line=18'>19</a>\u001b[0m \n\u001b[1;32m   (...)\u001b[0m\n\u001b[0;32m     <a href='vscode-notebook-cell:/c%3A/Users/YannikNelson/Documents/GitHub/QNet-Volumetric-Renderer/Experiments/RayVoxelIntersection.ipynb#ch0000004?line=22'>23</a>\u001b[0m \u001b[39m# ray_origin = ray_origin * -1\u001b[39;00m\n\u001b[0;32m     <a href='vscode-notebook-cell:/c%3A/Users/YannikNelson/Documents/GitHub/QNet-Volumetric-Renderer/Experiments/RayVoxelIntersection.ipynb#ch0000004?line=23'>24</a>\u001b[0m \u001b[39m# ray_direction = ray_direction* -1\u001b[39;00m\n\u001b[0;32m     <a href='vscode-notebook-cell:/c%3A/Users/YannikNelson/Documents/GitHub/QNet-Volumetric-Renderer/Experiments/RayVoxelIntersection.ipynb#ch0000004?line=24'>25</a>\u001b[0m ray_direction \u001b[39m=\u001b[39m ray_direction\u001b[39m/\u001b[39mnp\u001b[39m.\u001b[39mlinalg\u001b[39m.\u001b[39mnorm(ray_direction)\n\u001b[1;32m---> <a href='vscode-notebook-cell:/c%3A/Users/YannikNelson/Documents/GitHub/QNet-Volumetric-Renderer/Experiments/RayVoxelIntersection.ipynb#ch0000004?line=26'>27</a>\u001b[0m start_coord, steps, deltas, tmaxs \u001b[39m=\u001b[39m get_containing_voxel(bottom_left, top_right, voxel_size, ray_origin, ray_direction)\n\u001b[0;32m     <a href='vscode-notebook-cell:/c%3A/Users/YannikNelson/Documents/GitHub/QNet-Volumetric-Renderer/Experiments/RayVoxelIntersection.ipynb#ch0000004?line=27'>28</a>\u001b[0m \u001b[39mprint\u001b[39m(\u001b[39m\"\u001b[39m\u001b[39mstart_coord \u001b[39m\u001b[39m\"\u001b[39m, start_coord)\n\u001b[0;32m     <a href='vscode-notebook-cell:/c%3A/Users/YannikNelson/Documents/GitHub/QNet-Volumetric-Renderer/Experiments/RayVoxelIntersection.ipynb#ch0000004?line=28'>29</a>\u001b[0m \u001b[39mprint\u001b[39m(\u001b[39m\"\u001b[39m\u001b[39msteps \u001b[39m\u001b[39m\"\u001b[39m, steps)\n",
      "\u001b[1;32mc:\\Users\\YannikNelson\\Documents\\GitHub\\QNet-Volumetric-Renderer\\Experiments\\RayVoxelIntersection.ipynb Cell 2'\u001b[0m in \u001b[0;36mget_containing_voxel\u001b[1;34m(bottom_left, top_right, voxel_size, point, direction)\u001b[0m\n\u001b[0;32m     <a href='vscode-notebook-cell:/c%3A/Users/YannikNelson/Documents/GitHub/QNet-Volumetric-Renderer/Experiments/RayVoxelIntersection.ipynb#ch0000001?line=22'>23</a>\u001b[0m \u001b[39m# tmaxs = np.divide((diag-point_modulo), direction)\u001b[39;00m\n\u001b[0;32m     <a href='vscode-notebook-cell:/c%3A/Users/YannikNelson/Documents/GitHub/QNet-Volumetric-Renderer/Experiments/RayVoxelIntersection.ipynb#ch0000001?line=24'>25</a>\u001b[0m tamxs \u001b[39m=\u001b[39m direction \u001b[39m*\u001b[39m \u001b[39m0\u001b[39m\n\u001b[1;32m---> <a href='vscode-notebook-cell:/c%3A/Users/YannikNelson/Documents/GitHub/QNet-Volumetric-Renderer/Experiments/RayVoxelIntersection.ipynb#ch0000001?line=25'>26</a>\u001b[0m tmaxs[(direction \u001b[39m<\u001b[39m \u001b[39m0\u001b[39m)] \u001b[39m=\u001b[39m point_modulo[(direction \u001b[39m<\u001b[39m \u001b[39m0\u001b[39m)]\n\u001b[0;32m     <a href='vscode-notebook-cell:/c%3A/Users/YannikNelson/Documents/GitHub/QNet-Volumetric-Renderer/Experiments/RayVoxelIntersection.ipynb#ch0000001?line=26'>27</a>\u001b[0m tmaxs[(direction \u001b[39m>\u001b[39m \u001b[39m0\u001b[39m)] \u001b[39m=\u001b[39m voxel_size[(direction \u001b[39m>\u001b[39m \u001b[39m0\u001b[39m)] \u001b[39m-\u001b[39m point_modulo[(direction \u001b[39m>\u001b[39m \u001b[39m0\u001b[39m)]\n\u001b[0;32m     <a href='vscode-notebook-cell:/c%3A/Users/YannikNelson/Documents/GitHub/QNet-Volumetric-Renderer/Experiments/RayVoxelIntersection.ipynb#ch0000001?line=28'>29</a>\u001b[0m \u001b[39m# tmaxs[(point_modulo == 0) & (direction < 0)] = 0\u001b[39;00m\n\u001b[0;32m     <a href='vscode-notebook-cell:/c%3A/Users/YannikNelson/Documents/GitHub/QNet-Volumetric-Renderer/Experiments/RayVoxelIntersection.ipynb#ch0000001?line=29'>30</a>\u001b[0m \u001b[39m# tmaxs[(point_modulo == 0) & ((direction == 0)  & (point == top_right))] = 0\u001b[39;00m\n\u001b[0;32m     <a href='vscode-notebook-cell:/c%3A/Users/YannikNelson/Documents/GitHub/QNet-Volumetric-Renderer/Experiments/RayVoxelIntersection.ipynb#ch0000001?line=30'>31</a>\u001b[0m \n\u001b[0;32m     <a href='vscode-notebook-cell:/c%3A/Users/YannikNelson/Documents/GitHub/QNet-Volumetric-Renderer/Experiments/RayVoxelIntersection.ipynb#ch0000001?line=31'>32</a>\u001b[0m \n\u001b[0;32m     <a href='vscode-notebook-cell:/c%3A/Users/YannikNelson/Documents/GitHub/QNet-Volumetric-Renderer/Experiments/RayVoxelIntersection.ipynb#ch0000001?line=32'>33</a>\u001b[0m \u001b[39m#find the voxel coord of the voxel that contains the point\u001b[39;00m\n",
      "\u001b[1;31mIndexError\u001b[0m: boolean index did not match indexed array along dimension 0; dimension is 2 but corresponding boolean dimension is 3"
     ]
    }
   ],
   "source": [
    "# xvoxels = 117\n",
    "# yvoxels = 117\n",
    "# zvoxels = 63\n",
    "xvoxels = 4\n",
    "yvoxels = 2\n",
    "zvoxels = 2\n",
    "voxel_counts = np.array([xvoxels, yvoxels, zvoxels])\n",
    "bottom_left = np.array([-1,-1,-1])\n",
    "top_right = np.array([1,1,1])\n",
    "voxel_size = (top_right - bottom_left)/voxel_counts\n",
    "print(voxel_size, voxel_counts)\n",
    "print(voxel_size*voxel_counts)\n",
    "\n",
    "ray_origin = np.array([1, 1, 1])\n",
    "ray_direction = np.array([-1,-1,0])\n",
    "\n",
    "# ray_origin = np.array([-0.94919843, -0.22988174,  1])\n",
    "# ray_direction = np.array([-0.75137672, -0.6421716,  -0.15181786])\n",
    "\n",
    "# ray_origin = np.array([0.98586982, 0.96225916, 1])\n",
    "# ray_direction = np.array([0.19116649, 0.96221394, -0.19390643])\n",
    "\n",
    "# ray_origin = ray_origin * -1\n",
    "# ray_direction = ray_direction* -1\n",
    "ray_direction = ray_direction/np.linalg.norm(ray_direction)\n",
    "\n",
    "start_coord, steps, deltas, tmaxs = get_containing_voxel(bottom_left, top_right, voxel_size, ray_origin, ray_direction)\n",
    "print(\"start_coord \", start_coord)\n",
    "print(\"steps \", steps)\n",
    "print(\"deltas \", deltas)\n",
    "print(\"tmaxs \", tmaxs)\n",
    "\n",
    "trace_scaling(start_coord, tmaxs, deltas, voxel_counts)\n",
    "\n"
   ]
  }
 ],
 "metadata": {
  "interpreter": {
   "hash": "b78465e235399ae73275d11837eec5903b2c06bfa917c9bb089c8a40ddaefe5d"
  },
  "kernelspec": {
   "display_name": "Python 3.8.10 64-bit (windows store)",
   "language": "python",
   "name": "python3"
  },
  "language_info": {
   "codemirror_mode": {
    "name": "ipython",
    "version": 3
   },
   "file_extension": ".py",
   "mimetype": "text/x-python",
   "name": "python",
   "nbconvert_exporter": "python",
   "pygments_lexer": "ipython3",
   "version": "3.8.10"
  },
  "orig_nbformat": 4
 },
 "nbformat": 4,
 "nbformat_minor": 2
}
