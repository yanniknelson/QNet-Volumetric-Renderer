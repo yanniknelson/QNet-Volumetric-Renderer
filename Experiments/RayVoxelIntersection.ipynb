{
 "cells": [
  {
   "cell_type": "code",
   "execution_count": 5,
   "metadata": {},
   "outputs": [],
   "source": [
    "import numpy as np"
   ]
  },
  {
   "cell_type": "code",
   "execution_count": 257,
   "metadata": {},
   "outputs": [],
   "source": [
    "def get_containing_voxel(bottom_left, voxel_size, point, direction):\n",
    "    #find the coordinates of the point on the edges of the voxel space (only works for -1 to 1 range) \n",
    "    #then shift in to the appropriate voxel \n",
    "    # shift = (np.abs(point) == 1) * ((point < 0) * 2 - 1)*0.5 # don't need? just check if voxel exists in volume\n",
    "    #coord = coord + shift # not needed\n",
    "    \n",
    "    #calculate the steps for the direction\n",
    "    steps = (direction < 0) * -2 + 1\n",
    "    #claculate t values of direction to produce each of the voxel dimension sizes\n",
    "    deltas = abs(np.divide(voxel_size,direction))\n",
    "    #find the maximum t vlues for the direction that can be moved before crossing a voxel\n",
    "    tmaxs = np.abs(np.divide((voxel_size-((point-bottom_left) % voxel_size)), direction))\n",
    "    #find the voxel coord of the voxel that contains the point\n",
    "    vox_coord = np.floor((point-bottom_left)/ voxel_size)\n",
    "    return vox_coord, steps, deltas, tmaxs"
   ]
  },
  {
   "cell_type": "code",
   "execution_count": 229,
   "metadata": {},
   "outputs": [],
   "source": [
    "def trace_no_scaling(ray_origin, start_coord, tmaxs, deltas, voxel_counts):\n",
    "    lowest = np.array([0,0,0])\n",
    "    while True:\n",
    "        print(start_coord)\n",
    "        if tmaxs[0] < tmaxs[1]:\n",
    "            if tmaxs[0] < tmaxs[2]:\n",
    "                start_coord[0] = start_coord[0] + steps[0]\n",
    "                tmaxs[0] = tmaxs[0] + deltas[0]\n",
    "            else:\n",
    "                start_coord[2] = start_coord[2] + steps[2]\n",
    "                tmaxs[2] = tmaxs[2] + deltas[2]\n",
    "        else:\n",
    "            if tmaxs[1] < tmaxs[2]:\n",
    "                start_coord[1] = start_coord[1] + steps[1]\n",
    "                tmaxs[1] = tmaxs[1] + deltas[1]\n",
    "            else:\n",
    "                start_coord[2] = start_coord[2] + steps[2]\n",
    "                tmaxs[2] = tmaxs[2] + deltas[2]\n",
    "        print(tmaxs)\n",
    "        if np.any(start_coord >= voxel_counts) or np.any(start_coord < lowest):\n",
    "            break"
   ]
  },
  {
   "cell_type": "code",
   "execution_count": 250,
   "metadata": {},
   "outputs": [],
   "source": [
    "def trace_scaling(start_coord, tmaxs, deltas, voxel_counts):\n",
    "    out_of_range_count = 0\n",
    "    lowest = np.array([0,0,0])\n",
    "    print(start_coord)\n",
    "    while True:\n",
    "        dim = 0\n",
    "        if tmaxs[0] < tmaxs[1]:\n",
    "            if tmaxs[0] < tmaxs[2]:\n",
    "                start_coord[0] = start_coord[0] + steps[0]\n",
    "                dim = 0\n",
    "            else:\n",
    "                start_coord[2] = start_coord[2] + steps[2]\n",
    "                dim = 2\n",
    "        else:\n",
    "            if tmaxs[1] < tmaxs[2]:\n",
    "                start_coord[1] = start_coord[1] + steps[1]\n",
    "                dim = 1\n",
    "            else:\n",
    "                start_coord[2] = start_coord[2] + steps[2]\n",
    "                dim = 2\n",
    "        if np.any(start_coord >= voxel_counts) or np.any(start_coord < lowest):\n",
    "            print(\"ignore\")\n",
    "            out_of_range_count = out_of_range_count + 1\n",
    "        if out_of_range_count == 4:\n",
    "            break\n",
    "        print(\"dim = \", dim, \" t = \", tmaxs[dim])\n",
    "        tmaxs = tmaxs - tmaxs[dim]\n",
    "        tmaxs[dim] = deltas[dim]\n",
    "        print(start_coord, tmaxs)\n",
    "        print()\n",
    "        "
   ]
  },
  {
   "cell_type": "code",
   "execution_count": 259,
   "metadata": {},
   "outputs": [
    {
     "name": "stdout",
     "output_type": "stream",
     "text": [
      "[0.5 1.  1. ]\n",
      "[0.5 1.  0.1]\n",
      "start_coord  [4. 2. 1.]\n",
      "steps  [-1 -1  1]\n",
      "deltas  [0.70710678 1.41421356        inf]\n",
      "tmaxs  [0.70710678 1.41421356        inf]\n",
      "[4. 2. 1.]\n",
      "ignore\n",
      "dim =  0  t =  0.7071067811865476\n",
      "[3. 2. 1.] [0.70710678 0.70710678        inf]\n",
      "\n",
      "dim =  1  t =  0.7071067811865476\n",
      "[3. 1. 1.] [0.         1.41421356        inf]\n",
      "\n",
      "dim =  0  t =  0.0\n",
      "[2. 1. 1.] [0.70710678 1.41421356        inf]\n",
      "\n",
      "dim =  0  t =  0.7071067811865476\n",
      "[1. 1. 1.] [0.70710678 0.70710678        inf]\n",
      "\n",
      "dim =  1  t =  0.7071067811865476\n",
      "[1. 0. 1.] [0.         1.41421356        inf]\n",
      "\n",
      "dim =  0  t =  0.0\n",
      "[0. 0. 1.] [0.70710678 1.41421356        inf]\n",
      "\n",
      "ignore\n",
      "dim =  0  t =  0.7071067811865476\n",
      "[-1.  0.  1.] [0.70710678 0.70710678        inf]\n",
      "\n",
      "ignore\n",
      "dim =  1  t =  0.7071067811865476\n",
      "[-1. -1.  1.] [0.         1.41421356        inf]\n",
      "\n",
      "ignore\n"
     ]
    },
    {
     "name": "stderr",
     "output_type": "stream",
     "text": [
      "C:\\Users\\YannikNelson\\AppData\\Local\\Temp\\ipykernel_31416\\1912190858.py:10: RuntimeWarning: divide by zero encountered in true_divide\n",
      "  deltas = abs(np.divide(voxel_size,direction))\n",
      "C:\\Users\\YannikNelson\\AppData\\Local\\Temp\\ipykernel_31416\\1912190858.py:12: RuntimeWarning: divide by zero encountered in true_divide\n",
      "  tmaxs = np.abs(np.divide((voxel_size-((point-bottom_left) % voxel_size)), direction))\n"
     ]
    }
   ],
   "source": [
    "xvoxels = 4\n",
    "yvoxels = 2\n",
    "zvoxels = 2\n",
    "voxel_counts = np.array([xvoxels, yvoxels, zvoxels])\n",
    "bottom_left = np.array([-1,-1,-1])\n",
    "top_right = np.array([1,1,1])\n",
    "voxel_size = (top_right - bottom_left)/voxel_counts\n",
    "print(voxel_size)\n",
    "\n",
    "ray_origin = np.array([1, 1, 0.9])\n",
    "ray_direction = np.array([-1,-1,0])\n",
    "# ray_origin = ray_origin * -1\n",
    "# ray_direction = ray_direction* -1\n",
    "ray_direction = ray_direction/np.linalg.norm(ray_direction)\n",
    "\n",
    "start_coord, steps, deltas, tmaxs = get_containing_voxel(bottom_left, voxel_size, ray_origin, ray_direction)\n",
    "print(\"start_coord \", start_coord)\n",
    "print(\"steps \", steps)\n",
    "print(\"deltas \", deltas)\n",
    "print(\"tmaxs \", tmaxs)\n",
    "\n",
    "trace_scaling(start_coord, tmaxs, deltas, voxel_counts)\n",
    "\n"
   ]
  }
 ],
 "metadata": {
  "interpreter": {
   "hash": "b78465e235399ae73275d11837eec5903b2c06bfa917c9bb089c8a40ddaefe5d"
  },
  "kernelspec": {
   "display_name": "Python 3.8.10 64-bit (windows store)",
   "language": "python",
   "name": "python3"
  },
  "language_info": {
   "codemirror_mode": {
    "name": "ipython",
    "version": 3
   },
   "file_extension": ".py",
   "mimetype": "text/x-python",
   "name": "python",
   "nbconvert_exporter": "python",
   "pygments_lexer": "ipython3",
   "version": "3.8.10"
  },
  "orig_nbformat": 4
 },
 "nbformat": 4,
 "nbformat_minor": 2
}
